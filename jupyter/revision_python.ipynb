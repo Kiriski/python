{
 "cells": [
  {
   "cell_type": "markdown",
   "metadata": {},
   "source": [
    "# Bases Python"
   ]
  },
  {
   "cell_type": "markdown",
   "metadata": {},
   "source": [
    "## Exercices :\n",
    "Sur Jupyter ou Colab\n",
    "Ajouter les énoncés suivants, puis faire les exercices :\n",
    "1. Déclarer une variable days prenant la valeur 365 puis l’afficher\n",
    "2. Déclarer une variable str_int qui est une string = « 3 » puis l’afficher\n",
    "3. Convertir str_int en int puis l’afficher\n",
    "4. Créer une liste vide qui se nomme months\n",
    "5. Ajouter à cette liste vide la string « Janvier » puis afficher months\n",
    "6. Créer une liste nommé years comprenant 6 valeurs : 2013, 2014, 2015, 2016, 2013, 2014.\n",
    "7. Récupérer dans la variable first_value la première valeur de la liste years puis afficher first_value\n",
    "8. Afficher les 3 première valeurs de years\n",
    "9. Afficher le nombre d’éléments de years\n",
    "10. Créer un dictionnaire vide years_count. À l’aide d’une boucle for parcourir years afin d’avoir pour chaque année le nombre d’occurrence de cette année.\n",
    "EX : {2013: 2, 2014: 2, 2015: 1, 2016: 1}\n",
    "11. Déclarer un dic animals qui permet de comptabiliser le nombre d’animaux dans une ferme. Cette ferme a 100 poules, 40 chèvres et 23 vaches\n",
    "12. Afficher les éléments de animals\n",
    "13. Modifier le nombre de poules dans animals à 120\n",
    "14. Ajouter dans animals lions = 4\n",
    "15. Créer une fonction ton_age qui permet de retourner « agé » si l’âge rentré par l’user est supérieur ou égale à 60 et « jeune » dans le cas contraire."
   ]
  },
  {
   "cell_type": "code",
   "execution_count": 1,
   "metadata": {},
   "outputs": [
    {
     "name": "stdout",
     "output_type": "stream",
     "text": [
      "hello world\n"
     ]
    }
   ],
   "source": [
    "print(\"hello world\")"
   ]
  },
  {
   "cell_type": "code",
   "execution_count": 1,
   "metadata": {},
   "outputs": [
    {
     "name": "stdout",
     "output_type": "stream",
     "text": [
      "365\n"
     ]
    }
   ],
   "source": [
    "days = 365\n",
    "print(days)"
   ]
  },
  {
   "cell_type": "code",
   "execution_count": 2,
   "metadata": {},
   "outputs": [
    {
     "name": "stdout",
     "output_type": "stream",
     "text": [
      "3\n"
     ]
    }
   ],
   "source": [
    "str_int = \"3\"\n",
    "print(str_int)"
   ]
  },
  {
   "cell_type": "code",
   "execution_count": 5,
   "metadata": {},
   "outputs": [
    {
     "name": "stdout",
     "output_type": "stream",
     "text": [
      "3\n"
     ]
    },
    {
     "data": {
      "text/plain": [
       "int"
      ]
     },
     "execution_count": 5,
     "metadata": {},
     "output_type": "execute_result"
    }
   ],
   "source": [
    "int_convertion = int(str_int)\n",
    "print(int_convertion)\n",
    "type(int_convertion)"
   ]
  },
  {
   "cell_type": "code",
   "execution_count": 6,
   "metadata": {},
   "outputs": [],
   "source": [
    "months = []"
   ]
  },
  {
   "cell_type": "code",
   "execution_count": 7,
   "metadata": {},
   "outputs": [
    {
     "name": "stdout",
     "output_type": "stream",
     "text": [
      "['janvier']\n"
     ]
    }
   ],
   "source": [
    "months = [\"janvier\"]\n",
    "print(months)"
   ]
  },
  {
   "cell_type": "code",
   "execution_count": 8,
   "metadata": {},
   "outputs": [],
   "source": [
    "years = [2013, 2014, 2015, 2016, 2013, 2014]"
   ]
  },
  {
   "cell_type": "code",
   "execution_count": 11,
   "metadata": {},
   "outputs": [
    {
     "name": "stdout",
     "output_type": "stream",
     "text": [
      "2013\n"
     ]
    }
   ],
   "source": [
    "first_value = years[0]\n",
    "print(first_value)"
   ]
  },
  {
   "cell_type": "code",
   "execution_count": 27,
   "metadata": {},
   "outputs": [
    {
     "name": "stdout",
     "output_type": "stream",
     "text": [
      "2013\n",
      "2014\n",
      "2015\n",
      "2016\n",
      "2013\n",
      "2014\n"
     ]
    }
   ],
   "source": [
    "for y in years:\n",
    "    i = 0\n",
    "    if i<3:\n",
    "        print(y)\n",
    "        i += 1"
   ]
  },
  {
   "cell_type": "code",
   "execution_count": 28,
   "metadata": {},
   "outputs": [
    {
     "data": {
      "text/plain": [
       "[2013, 2014, 2015]"
      ]
     },
     "execution_count": 28,
     "metadata": {},
     "output_type": "execute_result"
    }
   ],
   "source": [
    "years[0:3]"
   ]
  },
  {
   "cell_type": "code",
   "execution_count": 30,
   "metadata": {},
   "outputs": [
    {
     "data": {
      "text/plain": [
       "6"
      ]
     },
     "execution_count": 30,
     "metadata": {},
     "output_type": "execute_result"
    }
   ],
   "source": [
    "len(years)"
   ]
  },
  {
   "cell_type": "code",
   "execution_count": 31,
   "metadata": {},
   "outputs": [],
   "source": [
    "years_count = {}"
   ]
  },
  {
   "cell_type": "code",
   "execution_count": 33,
   "metadata": {},
   "outputs": [
    {
     "name": "stdout",
     "output_type": "stream",
     "text": [
      "{2013: 2, 2014: 2, 2015: 1, 2016: 1}\n"
     ]
    }
   ],
   "source": [
    "for y in years:\n",
    "    if y in years_count:\n",
    "        years_count[y] +=1\n",
    "    else:\n",
    "        years_count[y] =1\n",
    "    \n",
    "print(years_count)"
   ]
  },
  {
   "cell_type": "code",
   "execution_count": 34,
   "metadata": {},
   "outputs": [],
   "source": [
    "animals = {\n",
    "    \"poules\" : 100,\n",
    "    \"chèvres\" : 40,\n",
    "    \"vaches\" : 23\n",
    "}"
   ]
  },
  {
   "cell_type": "code",
   "execution_count": 35,
   "metadata": {},
   "outputs": [],
   "source": [
    "animals[\"poules\"] = 120"
   ]
  },
  {
   "cell_type": "code",
   "execution_count": 37,
   "metadata": {},
   "outputs": [
    {
     "name": "stdout",
     "output_type": "stream",
     "text": [
      "{'poules': 120, 'chèvres': 40, 'vaches': 23, 'lions': 4}\n"
     ]
    }
   ],
   "source": [
    "animals[\"lions\"] = 4\n",
    "print(animals)"
   ]
  },
  {
   "cell_type": "code",
   "execution_count": 42,
   "metadata": {},
   "outputs": [
    {
     "name": "stdout",
     "output_type": "stream",
     "text": [
      "jeune\n"
     ]
    }
   ],
   "source": [
    "def ton_age(age):\n",
    "    if age >= 60:\n",
    "        print(\"agé\")\n",
    "    else:\n",
    "        print(\"jeune\")\n",
    "        \n",
    "ton_age(45)"
   ]
  },
  {
   "cell_type": "code",
   "execution_count": null,
   "metadata": {},
   "outputs": [],
   "source": []
  }
 ],
 "metadata": {
  "kernelspec": {
   "display_name": "Python 3",
   "language": "python",
   "name": "python3"
  },
  "language_info": {
   "codemirror_mode": {
    "name": "ipython",
    "version": 3
   },
   "file_extension": ".py",
   "mimetype": "text/x-python",
   "name": "python",
   "nbconvert_exporter": "python",
   "pygments_lexer": "ipython3",
   "version": "3.7.3"
  }
 },
 "nbformat": 4,
 "nbformat_minor": 2
}
